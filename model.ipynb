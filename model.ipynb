{
 "cells": [
  {
   "cell_type": "code",
   "execution_count": 1,
   "metadata": {
    "collapsed": true
   },
   "outputs": [],
   "source": [
    "import numpy as np\n",
    "import pandas as pd\n",
    "from pandas import DataFrame\n",
    "import matplotlib.pyplot as plt\n",
    "import seaborn as sns\n",
    "\n",
    "%matplotlib inline"
   ]
  },
  {
   "cell_type": "code",
   "execution_count": 2,
   "metadata": {
    "collapsed": false
   },
   "outputs": [
    {
     "name": "stderr",
     "output_type": "stream",
     "text": [
      "/usr/local/lib/python2.7/dist-packages/matplotlib-2.0.0b1-py2.7-linux-x86_64.egg/matplotlib/__init__.py:895: UserWarning: axes.color_cycle is deprecated and replaced with axes.prop_cycle; please use the latter.\n",
      "  warnings.warn(self.msg_depr % (key, alt_key))\n"
     ]
    }
   ],
   "source": [
    "from collections import defaultdict\n",
    "import json\n",
    "\n",
    "import scipy as sp\n",
    "\n",
    "from matplotlib import rcParams\n",
    "import matplotlib.cm as cm\n",
    "import matplotlib as mpl\n",
    "\n",
    "#colorbrewer2 Dark2 qualitative color table\n",
    "dark2_colors = [(0.10588235294117647, 0.6196078431372549, 0.4666666666666667),\n",
    "                (0.8509803921568627, 0.37254901960784315, 0.00784313725490196),\n",
    "                (0.4588235294117647, 0.4392156862745098, 0.7019607843137254),\n",
    "                (0.9058823529411765, 0.1607843137254902, 0.5411764705882353),\n",
    "                (0.4, 0.6509803921568628, 0.11764705882352941),\n",
    "                (0.9019607843137255, 0.6705882352941176, 0.00784313725490196),\n",
    "                (0.6509803921568628, 0.4627450980392157, 0.11372549019607843)]\n",
    "\n",
    "rcParams['figure.figsize'] = (10, 6)\n",
    "rcParams['figure.dpi'] = 150\n",
    "rcParams['axes.color_cycle'] = dark2_colors\n",
    "rcParams['lines.linewidth'] = 2\n",
    "rcParams['axes.facecolor'] = 'white'\n",
    "rcParams['font.size'] = 14\n",
    "rcParams['patch.edgecolor'] = 'white'\n",
    "rcParams['patch.facecolor'] = dark2_colors[0]\n",
    "rcParams['font.family'] = 'StixGeneral'"
   ]
  },
  {
   "cell_type": "code",
   "execution_count": 3,
   "metadata": {
    "collapsed": false
   },
   "outputs": [],
   "source": [
    "features = pd.read_csv('data/PaticlulateComposite.csv', names=['var1', 'var2', 'var3', 'var4'])\n",
    "\n",
    "target = pd.read_csv('data/StressData.dat', names=['stress'])"
   ]
  },
  {
   "cell_type": "code",
   "execution_count": 4,
   "metadata": {
    "collapsed": false
   },
   "outputs": [
    {
     "data": {
      "text/html": [
       "<div>\n",
       "<table border=\"1\" class=\"dataframe\">\n",
       "  <thead>\n",
       "    <tr style=\"text-align: right;\">\n",
       "      <th></th>\n",
       "      <th>var1</th>\n",
       "      <th>var2</th>\n",
       "      <th>var3</th>\n",
       "      <th>var4</th>\n",
       "    </tr>\n",
       "  </thead>\n",
       "  <tbody>\n",
       "    <tr>\n",
       "      <th>0</th>\n",
       "      <td>4.280000e+09</td>\n",
       "      <td>0.404</td>\n",
       "      <td>7.490000e+11</td>\n",
       "      <td>0.336</td>\n",
       "    </tr>\n",
       "    <tr>\n",
       "      <th>1</th>\n",
       "      <td>5.790000e+09</td>\n",
       "      <td>0.409</td>\n",
       "      <td>1.630000e+11</td>\n",
       "      <td>0.296</td>\n",
       "    </tr>\n",
       "    <tr>\n",
       "      <th>2</th>\n",
       "      <td>7.400000e+09</td>\n",
       "      <td>0.405</td>\n",
       "      <td>1.520000e+11</td>\n",
       "      <td>0.345</td>\n",
       "    </tr>\n",
       "    <tr>\n",
       "      <th>3</th>\n",
       "      <td>8.840000e+09</td>\n",
       "      <td>0.423</td>\n",
       "      <td>6.100000e+11</td>\n",
       "      <td>0.333</td>\n",
       "    </tr>\n",
       "    <tr>\n",
       "      <th>4</th>\n",
       "      <td>3.960000e+09</td>\n",
       "      <td>0.400</td>\n",
       "      <td>2.620000e+11</td>\n",
       "      <td>0.338</td>\n",
       "    </tr>\n",
       "  </tbody>\n",
       "</table>\n",
       "</div>"
      ],
      "text/plain": [
       "           var1   var2          var3   var4\n",
       "0  4.280000e+09  0.404  7.490000e+11  0.336\n",
       "1  5.790000e+09  0.409  1.630000e+11  0.296\n",
       "2  7.400000e+09  0.405  1.520000e+11  0.345\n",
       "3  8.840000e+09  0.423  6.100000e+11  0.333\n",
       "4  3.960000e+09  0.400  2.620000e+11  0.338"
      ]
     },
     "execution_count": 4,
     "metadata": {},
     "output_type": "execute_result"
    }
   ],
   "source": [
    "features.head()"
   ]
  },
  {
   "cell_type": "code",
   "execution_count": 5,
   "metadata": {
    "collapsed": false
   },
   "outputs": [
    {
     "data": {
      "text/html": [
       "<div>\n",
       "<table border=\"1\" class=\"dataframe\">\n",
       "  <thead>\n",
       "    <tr style=\"text-align: right;\">\n",
       "      <th></th>\n",
       "      <th>stress</th>\n",
       "    </tr>\n",
       "  </thead>\n",
       "  <tbody>\n",
       "    <tr>\n",
       "      <th>0</th>\n",
       "      <td>9.413100e+08</td>\n",
       "    </tr>\n",
       "    <tr>\n",
       "      <th>1</th>\n",
       "      <td>1.311500e+09</td>\n",
       "    </tr>\n",
       "    <tr>\n",
       "      <th>2</th>\n",
       "      <td>1.617000e+09</td>\n",
       "    </tr>\n",
       "    <tr>\n",
       "      <th>3</th>\n",
       "      <td>2.289700e+09</td>\n",
       "    </tr>\n",
       "    <tr>\n",
       "      <th>4</th>\n",
       "      <td>8.487300e+08</td>\n",
       "    </tr>\n",
       "  </tbody>\n",
       "</table>\n",
       "</div>"
      ],
      "text/plain": [
       "         stress\n",
       "0  9.413100e+08\n",
       "1  1.311500e+09\n",
       "2  1.617000e+09\n",
       "3  2.289700e+09\n",
       "4  8.487300e+08"
      ]
     },
     "execution_count": 5,
     "metadata": {},
     "output_type": "execute_result"
    }
   ],
   "source": [
    "target.head()"
   ]
  },
  {
   "cell_type": "code",
   "execution_count": 6,
   "metadata": {
    "collapsed": false
   },
   "outputs": [
    {
     "data": {
      "text/plain": [
       "(array([ 1.,  2.,  1.,  1.,  0.,  1.,  1.,  1.,  3.,  4.,  0.,  1.,  2.,\n",
       "         1.,  2.,  3.,  1.,  3.,  2.,  4.,  2.,  3.,  1.,  3.,  2.,  1.,\n",
       "         7.,  2.,  1.,  3.,  1.,  0.,  2.,  1.,  0.,  4.,  2.,  3.,  1.,\n",
       "         2.,  4.,  0.,  2.,  2.,  1.,  4.,  1.,  2.,  5.,  4.]),\n",
       " array([  1.15000000e+09,   1.32620000e+09,   1.50240000e+09,\n",
       "          1.67860000e+09,   1.85480000e+09,   2.03100000e+09,\n",
       "          2.20720000e+09,   2.38340000e+09,   2.55960000e+09,\n",
       "          2.73580000e+09,   2.91200000e+09,   3.08820000e+09,\n",
       "          3.26440000e+09,   3.44060000e+09,   3.61680000e+09,\n",
       "          3.79300000e+09,   3.96920000e+09,   4.14540000e+09,\n",
       "          4.32160000e+09,   4.49780000e+09,   4.67400000e+09,\n",
       "          4.85020000e+09,   5.02640000e+09,   5.20260000e+09,\n",
       "          5.37880000e+09,   5.55500000e+09,   5.73120000e+09,\n",
       "          5.90740000e+09,   6.08360000e+09,   6.25980000e+09,\n",
       "          6.43600000e+09,   6.61220000e+09,   6.78840000e+09,\n",
       "          6.96460000e+09,   7.14080000e+09,   7.31700000e+09,\n",
       "          7.49320000e+09,   7.66940000e+09,   7.84560000e+09,\n",
       "          8.02180000e+09,   8.19800000e+09,   8.37420000e+09,\n",
       "          8.55040000e+09,   8.72660000e+09,   8.90280000e+09,\n",
       "          9.07900000e+09,   9.25520000e+09,   9.43140000e+09,\n",
       "          9.60760000e+09,   9.78380000e+09,   9.96000000e+09]),\n",
       " <a list of 50 Patch objects>)"
      ]
     },
     "execution_count": 6,
     "metadata": {},
     "output_type": "execute_result"
    },
    {
     "data": {
      "image/png": "[encoded data removed]",
      "text/plain": [
       "<matplotlib.figure.Figure at 0x7fe14602ef90>"
      ]
     },
     "metadata": {},
     "output_type": "display_data"
    }
   ],
   "source": [
    "plt.hist(features['var1'], bins=50)"
   ]
  },
  {
   "cell_type": "code",
   "execution_count": 7,
   "metadata": {
    "collapsed": false
   },
   "outputs": [
    {
     "data": {
      "text/plain": [
       "(array([ 3.,  1.,  7.,  1.,  0.,  2.,  4.,  4.,  2.,  3.,  0.,  2.,  2.,\n",
       "         1.,  0.,  0.,  1.,  4.,  0.,  3.,  0.,  1.,  8.,  2.,  1.,  0.,\n",
       "         0.,  2.,  0.,  3.,  2.,  4.,  3.,  0.,  1.,  1.,  2.,  5.,  0.,\n",
       "         1.,  2.,  1.,  6.,  0.,  3.,  3.,  2.,  4.,  0.,  3.]),\n",
       " array([ 0.4  ,  0.401,  0.402,  0.403,  0.404,  0.405,  0.406,  0.407,\n",
       "         0.408,  0.409,  0.41 ,  0.411,  0.412,  0.413,  0.414,  0.415,\n",
       "         0.416,  0.417,  0.418,  0.419,  0.42 ,  0.421,  0.422,  0.423,\n",
       "         0.424,  0.425,  0.426,  0.427,  0.428,  0.429,  0.43 ,  0.431,\n",
       "         0.432,  0.433,  0.434,  0.435,  0.436,  0.437,  0.438,  0.439,\n",
       "         0.44 ,  0.441,  0.442,  0.443,  0.444,  0.445,  0.446,  0.447,\n",
       "         0.448,  0.449,  0.45 ]),\n",
       " <a list of 50 Patch objects>)"
      ]
     },
     "execution_count": 7,
     "metadata": {},
     "output_type": "execute_result"
    },
    {
     "data": {
      "image/png": "[encoded data removed]",
      "text/plain": [
       "<matplotlib.figure.Figure at 0x7fe145bda850>"
      ]
     },
     "metadata": {},
     "output_type": "display_data"
    }
   ],
   "source": [
    "plt.hist(features['var2'], bins=50)"
   ]
  },
  {
   "cell_type": "code",
   "execution_count": 8,
   "metadata": {
    "collapsed": false
   },
   "outputs": [
    {
     "data": {
      "text/plain": [
       "(array([ 3.,  1.,  7.,  1.,  0.,  2.,  4.,  4.,  2.,  3.,  0.,  2.,  2.,\n",
       "         1.,  0.,  0.,  1.,  4.,  0.,  3.,  0.,  1.,  8.,  2.,  1.,  0.,\n",
       "         0.,  2.,  0.,  3.,  2.,  4.,  3.,  0.,  1.,  1.,  2.,  5.,  0.,\n",
       "         1.,  2.,  1.,  6.,  0.,  3.,  3.,  2.,  4.,  0.,  3.]),\n",
       " array([ 0.4  ,  0.401,  0.402,  0.403,  0.404,  0.405,  0.406,  0.407,\n",
       "         0.408,  0.409,  0.41 ,  0.411,  0.412,  0.413,  0.414,  0.415,\n",
       "         0.416,  0.417,  0.418,  0.419,  0.42 ,  0.421,  0.422,  0.423,\n",
       "         0.424,  0.425,  0.426,  0.427,  0.428,  0.429,  0.43 ,  0.431,\n",
       "         0.432,  0.433,  0.434,  0.435,  0.436,  0.437,  0.438,  0.439,\n",
       "         0.44 ,  0.441,  0.442,  0.443,  0.444,  0.445,  0.446,  0.447,\n",
       "         0.448,  0.449,  0.45 ]),\n",
       " <a list of 50 Patch objects>)"
      ]
     },
     "execution_count": 8,
     "metadata": {},
     "output_type": "execute_result"
    },
    {
     "data": {
      "image/png": "[encoded data removed]",
      "text/plain": [
       "<matplotlib.figure.Figure at 0x7fe1459ded10>"
      ]
     },
     "metadata": {},
     "output_type": "display_data"
    }
   ],
   "source": [
    "plt.hist(features['var2'], bins=50)"
   ]
  },
  {
   "cell_type": "code",
   "execution_count": 9,
   "metadata": {
    "collapsed": false
   },
   "outputs": [
    {
     "data": {
      "text/plain": [
       "(array([ 2.,  1.,  3.,  0.,  2.,  0.,  2.,  2.,  3.,  1.,  3.,  5.,  2.,\n",
       "         1.,  2.,  1.,  6.,  4.,  1.,  3.,  4.,  1.,  1.,  0.,  0.,  1.,\n",
       "         3.,  5.,  0.,  1.,  4.,  1.,  0.,  0.,  3.,  0.,  1.,  8.,  1.,\n",
       "         2.,  1.,  6.,  1.,  0.,  2.,  0.,  3.,  2.,  1.,  4.]),\n",
       " array([  1.03000000e+10,   3.00740000e+10,   4.98480000e+10,\n",
       "          6.96220000e+10,   8.93960000e+10,   1.09170000e+11,\n",
       "          1.28944000e+11,   1.48718000e+11,   1.68492000e+11,\n",
       "          1.88266000e+11,   2.08040000e+11,   2.27814000e+11,\n",
       "          2.47588000e+11,   2.67362000e+11,   2.87136000e+11,\n",
       "          3.06910000e+11,   3.26684000e+11,   3.46458000e+11,\n",
       "          3.66232000e+11,   3.86006000e+11,   4.05780000e+11,\n",
       "          4.25554000e+11,   4.45328000e+11,   4.65102000e+11,\n",
       "          4.84876000e+11,   5.04650000e+11,   5.24424000e+11,\n",
       "          5.44198000e+11,   5.63972000e+11,   5.83746000e+11,\n",
       "          6.03520000e+11,   6.23294000e+11,   6.43068000e+11,\n",
       "          6.62842000e+11,   6.82616000e+11,   7.02390000e+11,\n",
       "          7.22164000e+11,   7.41938000e+11,   7.61712000e+11,\n",
       "          7.81486000e+11,   8.01260000e+11,   8.21034000e+11,\n",
       "          8.40808000e+11,   8.60582000e+11,   8.80356000e+11,\n",
       "          9.00130000e+11,   9.19904000e+11,   9.39678000e+11,\n",
       "          9.59452000e+11,   9.79226000e+11,   9.99000000e+11]),\n",
       " <a list of 50 Patch objects>)"
      ]
     },
     "execution_count": 9,
     "metadata": {},
     "output_type": "execute_result"
    },
    {
     "data": {
      "image/png": "[encoded data removed]",
      "text/plain": [
       "<matplotlib.figure.Figure at 0x7fe1458563d0>"
      ]
     },
     "metadata": {},
     "output_type": "display_data"
    }
   ],
   "source": [
    "plt.hist(features['var3'], bins=50)"
   ]
  },
  {
   "cell_type": "code",
   "execution_count": 10,
   "metadata": {
    "collapsed": false
   },
   "outputs": [
    {
     "data": {
      "text/plain": [
       "(array([ 2.,  0.,  2.,  1.,  1.,  1.,  1.,  0.,  3.,  0.,  2.,  4.,  1.,\n",
       "         2.,  1.,  1.,  2.,  1.,  1.,  5.,  2.,  2.,  1.,  2.,  1.,  2.,\n",
       "         1.,  5.,  2.,  1.,  5.,  2.,  3.,  1.,  3.,  1.,  2.,  2.,  2.,\n",
       "         3.,  0.,  7.,  2.,  0.,  4.,  0.,  2.,  4.,  2.,  5.]),\n",
       " array([ 0.282  ,  0.28336,  0.28472,  0.28608,  0.28744,  0.2888 ,\n",
       "         0.29016,  0.29152,  0.29288,  0.29424,  0.2956 ,  0.29696,\n",
       "         0.29832,  0.29968,  0.30104,  0.3024 ,  0.30376,  0.30512,\n",
       "         0.30648,  0.30784,  0.3092 ,  0.31056,  0.31192,  0.31328,\n",
       "         0.31464,  0.316  ,  0.31736,  0.31872,  0.32008,  0.32144,\n",
       "         0.3228 ,  0.32416,  0.32552,  0.32688,  0.32824,  0.3296 ,\n",
       "         0.33096,  0.33232,  0.33368,  0.33504,  0.3364 ,  0.33776,\n",
       "         0.33912,  0.34048,  0.34184,  0.3432 ,  0.34456,  0.34592,\n",
       "         0.34728,  0.34864,  0.35   ]),\n",
       " <a list of 50 Patch objects>)"
      ]
     },
     "execution_count": 10,
     "metadata": {},
     "output_type": "execute_result"
    },
    {
     "data": {
      "image/png": "[encoded data removed]",
      "text/plain": [
       "<matplotlib.figure.Figure at 0x7fe14563fd90>"
      ]
     },
     "metadata": {},
     "output_type": "display_data"
    }
   ],
   "source": [
    "plt.hist(features['var4'], bins=50)"
   ]
  },
  {
   "cell_type": "code",
   "execution_count": 11,
   "metadata": {
    "collapsed": false
   },
   "outputs": [
    {
     "data": {
      "text/plain": [
       "(array([ 1.,  1.,  1.,  0.,  3.,  0.,  3.,  3.,  3.,  2.,  2.,  2.,  3.,\n",
       "         2.,  2.,  5.,  2.,  4.,  4.,  2.,  1.,  4.,  0.,  5.,  2.,  3.,\n",
       "         0.,  2.,  2.,  2.,  5.,  2.,  2.,  3.,  4.,  2.,  4.,  2.,  1.,\n",
       "         0.,  3.,  1.,  1.,  0.,  0.,  2.,  1.,  0.,  0.,  1.]),\n",
       " array([  2.50860000e+08,   3.10146800e+08,   3.69433600e+08,\n",
       "          4.28720400e+08,   4.88007200e+08,   5.47294000e+08,\n",
       "          6.06580800e+08,   6.65867600e+08,   7.25154400e+08,\n",
       "          7.84441200e+08,   8.43728000e+08,   9.03014800e+08,\n",
       "          9.62301600e+08,   1.02158840e+09,   1.08087520e+09,\n",
       "          1.14016200e+09,   1.19944880e+09,   1.25873560e+09,\n",
       "          1.31802240e+09,   1.37730920e+09,   1.43659600e+09,\n",
       "          1.49588280e+09,   1.55516960e+09,   1.61445640e+09,\n",
       "          1.67374320e+09,   1.73303000e+09,   1.79231680e+09,\n",
       "          1.85160360e+09,   1.91089040e+09,   1.97017720e+09,\n",
       "          2.02946400e+09,   2.08875080e+09,   2.14803760e+09,\n",
       "          2.20732440e+09,   2.26661120e+09,   2.32589800e+09,\n",
       "          2.38518480e+09,   2.44447160e+09,   2.50375840e+09,\n",
       "          2.56304520e+09,   2.62233200e+09,   2.68161880e+09,\n",
       "          2.74090560e+09,   2.80019240e+09,   2.85947920e+09,\n",
       "          2.91876600e+09,   2.97805280e+09,   3.03733960e+09,\n",
       "          3.09662640e+09,   3.15591320e+09,   3.21520000e+09]),\n",
       " <a list of 50 Patch objects>)"
      ]
     },
     "execution_count": 11,
     "metadata": {},
     "output_type": "execute_result"
    },
    {
     "data": {
      "image/png": "[encoded data removed]",
      "text/plain": [
       "<matplotlib.figure.Figure at 0x7fe1458705d0>"
      ]
     },
     "metadata": {},
     "output_type": "display_data"
    }
   ],
   "source": [
    "plt.hist(target.values.ravel(), bins=50)"
   ]
  },
  {
   "cell_type": "code",
   "execution_count": 12,
   "metadata": {
    "collapsed": false
   },
   "outputs": [
    {
     "data": {
      "text/plain": [
       "<matplotlib.collections.PathCollection at 0x7fe14524eb90>"
      ]
     },
     "execution_count": 12,
     "metadata": {},
     "output_type": "execute_result"
    },
    {
     "data": {
      "image/png": "[encoded data removed]",
      "text/plain": [
       "<matplotlib.figure.Figure at 0x7fe14568c390>"
      ]
     },
     "metadata": {},
     "output_type": "display_data"
    }
   ],
   "source": [
    "plt.scatter(features['var1'], target)"
   ]
  },
  {
   "cell_type": "code",
   "execution_count": 13,
   "metadata": {
    "collapsed": false
   },
   "outputs": [
    {
     "data": {
      "text/plain": [
       "<matplotlib.collections.PathCollection at 0x7fe14518e210>"
      ]
     },
     "execution_count": 13,
     "metadata": {},
     "output_type": "execute_result"
    },
    {
     "data": {
      "image/png": "[encoded data removed]",
      "text/plain": [
       "<matplotlib.figure.Figure at 0x7fe1451eb590>"
      ]
     },
     "metadata": {},
     "output_type": "display_data"
    }
   ],
   "source": [
    "plt.scatter(features['var2'], target)"
   ]
  },
  {
   "cell_type": "code",
   "execution_count": 14,
   "metadata": {
    "collapsed": false
   },
   "outputs": [
    {
     "data": {
      "text/plain": [
       "<matplotlib.collections.PathCollection at 0x7fe1450c2110>"
      ]
     },
     "execution_count": 14,
     "metadata": {},
     "output_type": "execute_result"
    },
    {
     "data": {
      "image/png": "[encoded data removed]",
      "text/plain": [
       "<matplotlib.figure.Figure at 0x7fe145481ad0>"
      ]
     },
     "metadata": {},
     "output_type": "display_data"
    }
   ],
   "source": [
    "plt.scatter(features['var3'], target)"
   ]
  },
  {
   "cell_type": "code",
   "execution_count": 15,
   "metadata": {
    "collapsed": false
   },
   "outputs": [
    {
     "data": {
      "text/plain": [
       "<matplotlib.collections.PathCollection at 0x7fe144fedd50>"
      ]
     },
     "execution_count": 15,
     "metadata": {},
     "output_type": "execute_result"
    },
    {
     "data": {
      "image/png": "[encoded data removed]",
      "text/plain": [
       "<matplotlib.figure.Figure at 0x7fe14505a250>"
      ]
     },
     "metadata": {},
     "output_type": "display_data"
    }
   ],
   "source": [
    "plt.scatter(features['var4'], target)"
   ]
  },
  {
   "cell_type": "code",
   "execution_count": 16,
   "metadata": {
    "collapsed": false
   },
   "outputs": [
    {
     "data": {
      "text/html": [
       "<div>\n",
       "<table border=\"1\" class=\"dataframe\">\n",
       "  <thead>\n",
       "    <tr style=\"text-align: right;\">\n",
       "      <th></th>\n",
       "      <th>var1</th>\n",
       "      <th>var2</th>\n",
       "      <th>var3</th>\n",
       "      <th>var4</th>\n",
       "    </tr>\n",
       "  </thead>\n",
       "  <tbody>\n",
       "    <tr>\n",
       "      <th>count</th>\n",
       "      <td>1.000000e+02</td>\n",
       "      <td>100.000000</td>\n",
       "      <td>1.000000e+02</td>\n",
       "      <td>100.000000</td>\n",
       "    </tr>\n",
       "    <tr>\n",
       "      <th>mean</th>\n",
       "      <td>5.994800e+09</td>\n",
       "      <td>0.424760</td>\n",
       "      <td>5.063630e+11</td>\n",
       "      <td>0.320730</td>\n",
       "    </tr>\n",
       "    <tr>\n",
       "      <th>std</th>\n",
       "      <td>2.485977e+09</td>\n",
       "      <td>0.015517</td>\n",
       "      <td>2.845020e+11</td>\n",
       "      <td>0.018991</td>\n",
       "    </tr>\n",
       "    <tr>\n",
       "      <th>min</th>\n",
       "      <td>1.150000e+09</td>\n",
       "      <td>0.400000</td>\n",
       "      <td>1.030000e+10</td>\n",
       "      <td>0.282000</td>\n",
       "    </tr>\n",
       "    <tr>\n",
       "      <th>25%</th>\n",
       "      <td>4.160000e+09</td>\n",
       "      <td>0.410000</td>\n",
       "      <td>2.590000e+11</td>\n",
       "      <td>0.306750</td>\n",
       "    </tr>\n",
       "    <tr>\n",
       "      <th>50%</th>\n",
       "      <td>5.860000e+09</td>\n",
       "      <td>0.424000</td>\n",
       "      <td>4.845000e+11</td>\n",
       "      <td>0.322500</td>\n",
       "    </tr>\n",
       "    <tr>\n",
       "      <th>75%</th>\n",
       "      <td>8.097500e+09</td>\n",
       "      <td>0.438250</td>\n",
       "      <td>7.527500e+11</td>\n",
       "      <td>0.338000</td>\n",
       "    </tr>\n",
       "    <tr>\n",
       "      <th>max</th>\n",
       "      <td>9.960000e+09</td>\n",
       "      <td>0.450000</td>\n",
       "      <td>9.990000e+11</td>\n",
       "      <td>0.350000</td>\n",
       "    </tr>\n",
       "  </tbody>\n",
       "</table>\n",
       "</div>"
      ],
      "text/plain": [
       "               var1        var2          var3        var4\n",
       "count  1.000000e+02  100.000000  1.000000e+02  100.000000\n",
       "mean   5.994800e+09    0.424760  5.063630e+11    0.320730\n",
       "std    2.485977e+09    0.015517  2.845020e+11    0.018991\n",
       "min    1.150000e+09    0.400000  1.030000e+10    0.282000\n",
       "25%    4.160000e+09    0.410000  2.590000e+11    0.306750\n",
       "50%    5.860000e+09    0.424000  4.845000e+11    0.322500\n",
       "75%    8.097500e+09    0.438250  7.527500e+11    0.338000\n",
       "max    9.960000e+09    0.450000  9.990000e+11    0.350000"
      ]
     },
     "execution_count": 16,
     "metadata": {},
     "output_type": "execute_result"
    }
   ],
   "source": [
    "features.describe()"
   ]
  },
  {
   "cell_type": "code",
   "execution_count": 17,
   "metadata": {
    "collapsed": false
   },
   "outputs": [
    {
     "data": {
      "text/html": [
       "<div>\n",
       "<table border=\"1\" class=\"dataframe\">\n",
       "  <thead>\n",
       "    <tr style=\"text-align: right;\">\n",
       "      <th></th>\n",
       "      <th>stress</th>\n",
       "    </tr>\n",
       "  </thead>\n",
       "  <tbody>\n",
       "    <tr>\n",
       "      <th>count</th>\n",
       "      <td>1.000000e+02</td>\n",
       "    </tr>\n",
       "    <tr>\n",
       "      <th>mean</th>\n",
       "      <td>1.615066e+09</td>\n",
       "    </tr>\n",
       "    <tr>\n",
       "      <th>std</th>\n",
       "      <td>7.099538e+08</td>\n",
       "    </tr>\n",
       "    <tr>\n",
       "      <th>min</th>\n",
       "      <td>2.508600e+08</td>\n",
       "    </tr>\n",
       "    <tr>\n",
       "      <th>25%</th>\n",
       "      <td>1.059175e+09</td>\n",
       "    </tr>\n",
       "    <tr>\n",
       "      <th>50%</th>\n",
       "      <td>1.579300e+09</td>\n",
       "    </tr>\n",
       "    <tr>\n",
       "      <th>75%</th>\n",
       "      <td>2.193200e+09</td>\n",
       "    </tr>\n",
       "    <tr>\n",
       "      <th>max</th>\n",
       "      <td>3.215200e+09</td>\n",
       "    </tr>\n",
       "  </tbody>\n",
       "</table>\n",
       "</div>"
      ],
      "text/plain": [
       "             stress\n",
       "count  1.000000e+02\n",
       "mean   1.615066e+09\n",
       "std    7.099538e+08\n",
       "min    2.508600e+08\n",
       "25%    1.059175e+09\n",
       "50%    1.579300e+09\n",
       "75%    2.193200e+09\n",
       "max    3.215200e+09"
      ]
     },
     "execution_count": 17,
     "metadata": {},
     "output_type": "execute_result"
    }
   ],
   "source": [
    "target.describe()"
   ]
  },
  {
   "cell_type": "code",
   "execution_count": 18,
   "metadata": {
    "collapsed": false
   },
   "outputs": [
    {
     "data": {
      "text/html": [
       "<div>\n",
       "<table border=\"1\" class=\"dataframe\">\n",
       "  <thead>\n",
       "    <tr style=\"text-align: right;\">\n",
       "      <th></th>\n",
       "      <th>var1</th>\n",
       "      <th>var2</th>\n",
       "      <th>var3</th>\n",
       "      <th>var4</th>\n",
       "    </tr>\n",
       "  </thead>\n",
       "  <tbody>\n",
       "    <tr>\n",
       "      <th>var1</th>\n",
       "      <td>1.000000</td>\n",
       "      <td>-0.020198</td>\n",
       "      <td>-0.051204</td>\n",
       "      <td>-0.031631</td>\n",
       "    </tr>\n",
       "    <tr>\n",
       "      <th>var2</th>\n",
       "      <td>-0.020198</td>\n",
       "      <td>1.000000</td>\n",
       "      <td>0.035796</td>\n",
       "      <td>-0.110763</td>\n",
       "    </tr>\n",
       "    <tr>\n",
       "      <th>var3</th>\n",
       "      <td>-0.051204</td>\n",
       "      <td>0.035796</td>\n",
       "      <td>1.000000</td>\n",
       "      <td>-0.057967</td>\n",
       "    </tr>\n",
       "    <tr>\n",
       "      <th>var4</th>\n",
       "      <td>-0.031631</td>\n",
       "      <td>-0.110763</td>\n",
       "      <td>-0.057967</td>\n",
       "      <td>1.000000</td>\n",
       "    </tr>\n",
       "  </tbody>\n",
       "</table>\n",
       "</div>"
      ],
      "text/plain": [
       "          var1      var2      var3      var4\n",
       "var1  1.000000 -0.020198 -0.051204 -0.031631\n",
       "var2 -0.020198  1.000000  0.035796 -0.110763\n",
       "var3 -0.051204  0.035796  1.000000 -0.057967\n",
       "var4 -0.031631 -0.110763 -0.057967  1.000000"
      ]
     },
     "execution_count": 18,
     "metadata": {},
     "output_type": "execute_result"
    }
   ],
   "source": [
    "features.corr()"
   ]
  },
  {
   "cell_type": "code",
   "execution_count": 19,
   "metadata": {
    "collapsed": true
   },
   "outputs": [],
   "source": [
    "from sklearn.linear_model import LinearRegression\n",
    "from sklearn.cross_validation import cross_val_score"
   ]
  },
  {
   "cell_type": "code",
   "execution_count": 20,
   "metadata": {
    "collapsed": false
   },
   "outputs": [
    {
     "name": "stdout",
     "output_type": "stream",
     "text": [
      "0.963706481572\n"
     ]
    }
   ],
   "source": [
    "lm = LinearRegression()\n",
    "print np.mean(cross_val_score(lm, features, target, cv=10, scoring='r2'))"
   ]
  },
  {
   "cell_type": "code",
   "execution_count": 21,
   "metadata": {
    "collapsed": true
   },
   "outputs": [],
   "source": [
    "from sklearn.ensemble import RandomForestRegressor"
   ]
  },
  {
   "cell_type": "code",
   "execution_count": 22,
   "metadata": {
    "collapsed": false
   },
   "outputs": [
    {
     "name": "stdout",
     "output_type": "stream",
     "text": [
      "0.945575848094\n"
     ]
    }
   ],
   "source": [
    "rf = RandomForestRegressor()\n",
    "print np.mean(cross_val_score(rf, features, target.values.ravel(), cv=10, scoring='r2'))"
   ]
  },
  {
   "cell_type": "code",
   "execution_count": 23,
   "metadata": {
    "collapsed": false
   },
   "outputs": [],
   "source": [
    "model = rf.fit(features, target.values.ravel())"
   ]
  },
  {
   "cell_type": "code",
   "execution_count": 24,
   "metadata": {
    "collapsed": false
   },
   "outputs": [],
   "source": [
    "predicted = rf.predict(features)"
   ]
  },
  {
   "cell_type": "code",
   "execution_count": 25,
   "metadata": {
    "collapsed": false
   },
   "outputs": [
    {
     "data": {
      "text/plain": [
       "array([ 0.87284559,  0.11031462,  0.00778256,  0.00905723])"
      ]
     },
     "execution_count": 25,
     "metadata": {},
     "output_type": "execute_result"
    }
   ],
   "source": [
    "model.feature_importances_"
   ]
  },
  {
   "cell_type": "code",
   "execution_count": null,
   "metadata": {
    "collapsed": true
   },
   "outputs": [],
   "source": []
  }
 ],
 "metadata": {
  "kernelspec": {
   "display_name": "Python 2",
   "language": "python",
   "name": "python2"
  },
  "language_info": {
   "codemirror_mode": {
    "name": "ipython",
    "version": 2
   },
   "file_extension": ".py",
   "mimetype": "text/x-python",
   "name": "python",
   "nbconvert_exporter": "python",
   "pygments_lexer": "ipython2",
   "version": "2.7.6"
  }
 },
 "nbformat": 4,
 "nbformat_minor": 0
}
