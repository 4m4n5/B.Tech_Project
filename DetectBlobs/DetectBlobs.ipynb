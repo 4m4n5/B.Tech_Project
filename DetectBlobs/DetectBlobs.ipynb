{
 "cells": [
  {
   "cell_type": "code",
   "execution_count": 1,
   "metadata": {
    "collapsed": false
   },
   "outputs": [],
   "source": [
    "# Initial imports\n",
    "import numpy as np\n",
    "import pandas as pd \n",
    "from pandas import DataFrame, Series\n",
    "import matplotlib.pyplot as plt\n",
    "import seaborn as sns\n",
    "from scipy import stats\n",
    "import math\n",
    "\n",
    "%matplotlib inline"
   ]
  },
  {
   "cell_type": "code",
   "execution_count": 2,
   "metadata": {
    "collapsed": true
   },
   "outputs": [],
   "source": [
    "import cv2\n",
    "import numpy as np"
   ]
  },
  {
   "cell_type": "code",
   "execution_count": 3,
   "metadata": {
    "collapsed": false
   },
   "outputs": [],
   "source": [
    "def initialiseBlobDetector():\n",
    "    params = cv2.SimpleBlobDetector_Params()\n",
    "    # Change thresholds\n",
    "    params.blobColor = 0\n",
    "    # Create a detector with the parameters\n",
    "    ver = (cv2.__version__).split('.')\n",
    "    if int(ver[0]) < 3 :\n",
    "        detector = cv2.SimpleBlobDetector(params)\n",
    "    else : \n",
    "        detector = cv2.SimpleBlobDetector_create(params)\n",
    "    return detector"
   ]
  },
  {
   "cell_type": "code",
   "execution_count": 4,
   "metadata": {
    "collapsed": false
   },
   "outputs": [],
   "source": [
    "def smothenImage(im):\n",
    "    kernel = np.ones((5,5),np.float32)/22\n",
    "    dst = cv2.filter2D(im,-1,kernel)\n",
    "    return dst"
   ]
  },
  {
   "cell_type": "code",
   "execution_count": 31,
   "metadata": {
    "collapsed": true
   },
   "outputs": [],
   "source": [
    "def showImages(im, im2, im3):\n",
    "    cv2.imshow(\"Original\", im)\n",
    "    cv2.imshow(\"With Detection\",im2);\n",
    "    cv2.imshow(\"Generated\",im3);\n",
    "    cv2.waitKey(0)\n",
    "    cv2.imwrite(\"Original.BMP\", im)\n",
    "    cv2.imwrite(\"WithDetection.BMP\", im2)\n",
    "    cv2.imwrite(\"Generated.BMP\", im3)"
   ]
  },
  {
   "cell_type": "code",
   "execution_count": 27,
   "metadata": {
    "collapsed": true
   },
   "outputs": [],
   "source": [
    "def showDetection(im, keypoints, keypointsData):\n",
    "    im_with_keypoints = cv2.drawKeypoints(im, keypoints, np.array([]), (0,0,255), cv2.DRAW_MATCHES_FLAGS_DRAW_RICH_KEYPOINTS)\n",
    "    print \"Number of Blobs : \" + str(len(keypoints))\n",
    "    # Show keypoints\n",
    "    im2 = createImageCopy(im, keypointsData)\n",
    "    showImages(im, im_with_keypoints, im2)"
   ]
  },
  {
   "cell_type": "code",
   "execution_count": 28,
   "metadata": {
    "collapsed": true
   },
   "outputs": [],
   "source": [
    "def extractKeypointsData(keypoints):\n",
    "    data = DataFrame(columns=('PtX', 'PtY', 'Diameter'))\n",
    "    for keypoint in keypoints:\n",
    "        PtX = keypoint.pt[0]\n",
    "        PtY = keypoint.pt[1]\n",
    "        Area = keypoint.size\n",
    "        keyData = DataFrame([[PtX, PtY, Area]], columns=('PtX', 'PtY', 'Diameter'))\n",
    "        data = data.append(keyData, ignore_index = True)\n",
    "        data['Radius'] = data['Diameter']/2\n",
    "    return data"
   ]
  },
  {
   "cell_type": "code",
   "execution_count": 29,
   "metadata": {
    "collapsed": true
   },
   "outputs": [],
   "source": [
    "def createImageCopy(im, data):\n",
    "    im2 = im.copy()\n",
    "    height, width = im.shape\n",
    "    cv2.rectangle(im2,(0,0),(width,height),(80,80,81),-1)\n",
    "    for i in range(0, data.shape[0]):\n",
    "        X = data.iloc[[i]]['PtX']\n",
    "        Y = data.iloc[[i]]['PtY']\n",
    "        Radius = data.iloc[[i]]['Radius']\n",
    "        cv2.circle(im2,(X,Y), Radius, (0,0,0), -1)\n",
    "    return im2"
   ]
  },
  {
   "cell_type": "code",
   "execution_count": 32,
   "metadata": {
    "collapsed": false
   },
   "outputs": [
    {
     "name": "stdout",
     "output_type": "stream",
     "text": [
      "Number of Blobs : 110\n"
     ]
    }
   ],
   "source": [
    "im = cv2.imread(\"1002.BMP\", cv2.IMREAD_GRAYSCALE)\n",
    "im = smothenImage(im)\n",
    "detector = initialiseBlobDetector()\n",
    "\n",
    "keypoints = detector.detect(im)\n",
    "keypointsData = extractKeypointsData(keypoints)\n",
    "showDetection(im, keypoints, keypointsData)\n",
    "# imFinal = createImageCopy(im, keypointsData)"
   ]
  }
 ],
 "metadata": {
  "kernelspec": {
   "display_name": "Python [Root]",
   "language": "python",
   "name": "Python [Root]"
  },
  "language_info": {
   "codemirror_mode": {
    "name": "ipython",
    "version": 2
   },
   "file_extension": ".py",
   "mimetype": "text/x-python",
   "name": "python",
   "nbconvert_exporter": "python",
   "pygments_lexer": "ipython2",
   "version": "2.7.12"
  }
 },
 "nbformat": 4,
 "nbformat_minor": 0
}
