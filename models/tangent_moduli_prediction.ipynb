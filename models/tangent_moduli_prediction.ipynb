{
 "cells": [
  {
   "cell_type": "code",
   "execution_count": 1,
   "metadata": {},
   "outputs": [
    {
     "name": "stderr",
     "output_type": "stream",
     "text": [
      "/usr/local/lib/python2.7/dist-packages/matplotlib/__init__.py:913: UserWarning: axes.color_cycle is deprecated and replaced with axes.prop_cycle; please use the latter.\n",
      "  warnings.warn(self.msg_depr % (key, alt_key))\n"
     ]
    }
   ],
   "source": [
    "import numpy as np\n",
    "import pandas as pd\n",
    "\n",
    "%matplotlib inline \n",
    "\n",
    "from fnmatch import fnmatch\n",
    "\n",
    "\n",
    "import matplotlib.pyplot as plt\n",
    "\n",
    "\n",
    "# set some nicer defaults for matplotlib\n",
    "from matplotlib import rcParams\n",
    "\n",
    "#these colors come from colorbrewer2.org. Each is an RGB triplet\n",
    "dark2_colors = [(0.10588235294117647, 0.6196078431372549, 0.4666666666666667),\n",
    "                (0.8509803921568627, 0.37254901960784315, 0.00784313725490196),\n",
    "                (0.4588235294117647, 0.4392156862745098, 0.7019607843137254),\n",
    "                (0.9058823529411765, 0.1607843137254902, 0.5411764705882353),\n",
    "                (0.4, 0.6509803921568628, 0.11764705882352941),\n",
    "                (0.9019607843137255, 0.6705882352941176, 0.00784313725490196),\n",
    "                (0.6509803921568628, 0.4627450980392157, 0.11372549019607843),\n",
    "                (0.4, 0.4, 0.4)]\n",
    "\n",
    "rcParams['figure.figsize'] = (20, 10)\n",
    "rcParams['figure.dpi'] = 150\n",
    "rcParams['axes.color_cycle'] = dark2_colors\n",
    "rcParams['lines.linewidth'] = 2\n",
    "rcParams['axes.grid'] = True\n",
    "rcParams['axes.facecolor'] = '#eeeeee'\n",
    "rcParams['font.size'] = 14\n",
    "rcParams['patch.edgecolor'] = 'none'"
   ]
  },
  {
   "cell_type": "code",
   "execution_count": 2,
   "metadata": {},
   "outputs": [],
   "source": [
    "data = pd.read_csv('../data/MaterialInputDataMachineLearning.txt', delim_whitespace=True, header=None)\n",
    "result = pd.read_csv('../data/OutputDataMachineLearning.txt', delim_whitespace=True, header=None)"
   ]
  },
  {
   "cell_type": "code",
   "execution_count": 3,
   "metadata": {},
   "outputs": [
    {
     "data": {
      "text/html": [
       "<div>\n",
       "<table border=\"1\" class=\"dataframe\">\n",
       "  <thead>\n",
       "    <tr style=\"text-align: right;\">\n",
       "      <th></th>\n",
       "      <th>0</th>\n",
       "      <th>1</th>\n",
       "      <th>2</th>\n",
       "      <th>3</th>\n",
       "      <th>4</th>\n",
       "      <th>5</th>\n",
       "      <th>6</th>\n",
       "    </tr>\n",
       "  </thead>\n",
       "  <tbody>\n",
       "    <tr>\n",
       "      <th>0</th>\n",
       "      <td>1</td>\n",
       "      <td>9.744375e+09</td>\n",
       "      <td>0.356487</td>\n",
       "      <td>5.266641e+11</td>\n",
       "      <td>0.279271</td>\n",
       "      <td>0.03</td>\n",
       "      <td>0.3</td>\n",
       "    </tr>\n",
       "    <tr>\n",
       "      <th>1</th>\n",
       "      <td>2</td>\n",
       "      <td>6.488627e+09</td>\n",
       "      <td>0.302243</td>\n",
       "      <td>1.232113e+11</td>\n",
       "      <td>0.137124</td>\n",
       "      <td>0.03</td>\n",
       "      <td>0.3</td>\n",
       "    </tr>\n",
       "    <tr>\n",
       "      <th>2</th>\n",
       "      <td>3</td>\n",
       "      <td>1.963719e+09</td>\n",
       "      <td>0.330547</td>\n",
       "      <td>4.588572e+11</td>\n",
       "      <td>0.315956</td>\n",
       "      <td>0.03</td>\n",
       "      <td>0.3</td>\n",
       "    </tr>\n",
       "    <tr>\n",
       "      <th>3</th>\n",
       "      <td>4</td>\n",
       "      <td>9.960097e+09</td>\n",
       "      <td>0.382041</td>\n",
       "      <td>1.455963e+11</td>\n",
       "      <td>0.123606</td>\n",
       "      <td>0.03</td>\n",
       "      <td>0.3</td>\n",
       "    </tr>\n",
       "    <tr>\n",
       "      <th>4</th>\n",
       "      <td>5</td>\n",
       "      <td>6.437510e+09</td>\n",
       "      <td>0.348520</td>\n",
       "      <td>8.645652e+11</td>\n",
       "      <td>0.129599</td>\n",
       "      <td>0.03</td>\n",
       "      <td>0.3</td>\n",
       "    </tr>\n",
       "  </tbody>\n",
       "</table>\n",
       "</div>"
      ],
      "text/plain": [
       "   0             1         2             3         4     5    6\n",
       "0  1  9.744375e+09  0.356487  5.266641e+11  0.279271  0.03  0.3\n",
       "1  2  6.488627e+09  0.302243  1.232113e+11  0.137124  0.03  0.3\n",
       "2  3  1.963719e+09  0.330547  4.588572e+11  0.315956  0.03  0.3\n",
       "3  4  9.960097e+09  0.382041  1.455963e+11  0.123606  0.03  0.3\n",
       "4  5  6.437510e+09  0.348520  8.645652e+11  0.129599  0.03  0.3"
      ]
     },
     "execution_count": 3,
     "metadata": {},
     "output_type": "execute_result"
    }
   ],
   "source": [
    "data.head()"
   ]
  },
  {
   "cell_type": "code",
   "execution_count": 4,
   "metadata": {},
   "outputs": [],
   "source": [
    "data = data[[1,2,3,4,6]]"
   ]
  },
  {
   "cell_type": "code",
   "execution_count": 5,
   "metadata": {},
   "outputs": [],
   "source": [
    "result[4] = 0"
   ]
  },
  {
   "cell_type": "code",
   "execution_count": 6,
   "metadata": {},
   "outputs": [],
   "source": [
    "from sklearn.ensemble import RandomForestRegressor\n",
    "rf = RandomForestRegressor(n_estimators = 200)"
   ]
  },
  {
   "cell_type": "code",
   "execution_count": 7,
   "metadata": {},
   "outputs": [
    {
     "name": "stderr",
     "output_type": "stream",
     "text": [
      "/usr/local/lib/python2.7/dist-packages/sklearn/cross_validation.py:44: DeprecationWarning: This module was deprecated in version 0.18 in favor of the model_selection module into which all the refactored classes and functions are moved. Also note that the interface of the new CV iterators are different from that of this module. This module will be removed in 0.20.\n",
      "  \"This module will be removed in 0.20.\", DeprecationWarning)\n"
     ]
    },
    {
     "data": {
      "text/plain": [
       "0.93161181969234808"
      ]
     },
     "execution_count": 7,
     "metadata": {},
     "output_type": "execute_result"
    }
   ],
   "source": [
    "from sklearn.cross_validation import cross_val_score\n",
    "\n",
    "np.mean(cross_val_score(rf,data, result[1], cv = 4))\n",
    "#rf.fit(data[[2,3,4,6]], result[1])"
   ]
  },
  {
   "cell_type": "code",
   "execution_count": 8,
   "metadata": {},
   "outputs": [
    {
     "data": {
      "text/html": [
       "<div>\n",
       "<table border=\"1\" class=\"dataframe\">\n",
       "  <thead>\n",
       "    <tr style=\"text-align: right;\">\n",
       "      <th></th>\n",
       "      <th>0</th>\n",
       "      <th>1</th>\n",
       "      <th>2</th>\n",
       "      <th>3</th>\n",
       "      <th>4</th>\n",
       "      <th>5</th>\n",
       "      <th>6</th>\n",
       "      <th>7</th>\n",
       "      <th>8</th>\n",
       "      <th>9</th>\n",
       "    </tr>\n",
       "  </thead>\n",
       "  <tbody>\n",
       "    <tr>\n",
       "      <th>0</th>\n",
       "      <td>1</td>\n",
       "      <td>2.664610e+10</td>\n",
       "      <td>1.306500e+10</td>\n",
       "      <td>279349000.0</td>\n",
       "      <td>0</td>\n",
       "      <td>2.676040e+10</td>\n",
       "      <td>413994000.0</td>\n",
       "      <td>0.0</td>\n",
       "      <td>0.0</td>\n",
       "      <td>6.373300e+09</td>\n",
       "    </tr>\n",
       "    <tr>\n",
       "      <th>1</th>\n",
       "      <td>2</td>\n",
       "      <td>1.416630e+10</td>\n",
       "      <td>5.466300e+09</td>\n",
       "      <td>116244000.0</td>\n",
       "      <td>0</td>\n",
       "      <td>1.421720e+10</td>\n",
       "      <td>202405000.0</td>\n",
       "      <td>0.0</td>\n",
       "      <td>0.0</td>\n",
       "      <td>4.154900e+09</td>\n",
       "    </tr>\n",
       "    <tr>\n",
       "      <th>2</th>\n",
       "      <td>3</td>\n",
       "      <td>4.963860e+09</td>\n",
       "      <td>2.177040e+09</td>\n",
       "      <td>56934400.0</td>\n",
       "      <td>0</td>\n",
       "      <td>4.988410e+09</td>\n",
       "      <td>84753000.0</td>\n",
       "      <td>0.0</td>\n",
       "      <td>0.0</td>\n",
       "      <td>1.310140e+09</td>\n",
       "    </tr>\n",
       "    <tr>\n",
       "      <th>3</th>\n",
       "      <td>4</td>\n",
       "      <td>2.825700e+10</td>\n",
       "      <td>1.514920e+10</td>\n",
       "      <td>272210000.0</td>\n",
       "      <td>0</td>\n",
       "      <td>2.833100e+10</td>\n",
       "      <td>400427000.0</td>\n",
       "      <td>0.0</td>\n",
       "      <td>0.0</td>\n",
       "      <td>6.193700e+09</td>\n",
       "    </tr>\n",
       "    <tr>\n",
       "      <th>4</th>\n",
       "      <td>5</td>\n",
       "      <td>1.723740e+10</td>\n",
       "      <td>8.116000e+09</td>\n",
       "      <td>186127000.0</td>\n",
       "      <td>0</td>\n",
       "      <td>1.731850e+10</td>\n",
       "      <td>276928000.0</td>\n",
       "      <td>0.0</td>\n",
       "      <td>0.0</td>\n",
       "      <td>4.274870e+09</td>\n",
       "    </tr>\n",
       "  </tbody>\n",
       "</table>\n",
       "</div>"
      ],
      "text/plain": [
       "   0             1             2            3  4             5            6  \\\n",
       "0  1  2.664610e+10  1.306500e+10  279349000.0  0  2.676040e+10  413994000.0   \n",
       "1  2  1.416630e+10  5.466300e+09  116244000.0  0  1.421720e+10  202405000.0   \n",
       "2  3  4.963860e+09  2.177040e+09   56934400.0  0  4.988410e+09   84753000.0   \n",
       "3  4  2.825700e+10  1.514920e+10  272210000.0  0  2.833100e+10  400427000.0   \n",
       "4  5  1.723740e+10  8.116000e+09  186127000.0  0  1.731850e+10  276928000.0   \n",
       "\n",
       "     7    8             9  \n",
       "0  0.0  0.0  6.373300e+09  \n",
       "1  0.0  0.0  4.154900e+09  \n",
       "2  0.0  0.0  1.310140e+09  \n",
       "3  0.0  0.0  6.193700e+09  \n",
       "4  0.0  0.0  4.274870e+09  "
      ]
     },
     "execution_count": 8,
     "metadata": {},
     "output_type": "execute_result"
    }
   ],
   "source": [
    "result.head()"
   ]
  },
  {
   "cell_type": "code",
   "execution_count": 9,
   "metadata": {},
   "outputs": [
    {
     "name": "stdout",
     "output_type": "stream",
     "text": [
      "1    0.929420671841\n",
      "2    0.949611321663\n",
      "3    0.846643278556\n",
      "5    0.930476083289\n",
      "6    0.848916349557\n",
      "9    0.968211895611\n"
     ]
    }
   ],
   "source": [
    "for i in [1,2,3,5,6,9]:\n",
    "    print i,\"  \",np.mean(cross_val_score(rf,data, result[i], cv = 4))"
   ]
  },
  {
   "cell_type": "code",
   "execution_count": 10,
   "metadata": {},
   "outputs": [
    {
     "data": {
      "text/html": [
       "<div>\n",
       "<table border=\"1\" class=\"dataframe\">\n",
       "  <thead>\n",
       "    <tr style=\"text-align: right;\">\n",
       "      <th></th>\n",
       "      <th>1</th>\n",
       "      <th>2</th>\n",
       "      <th>3</th>\n",
       "      <th>4</th>\n",
       "      <th>6</th>\n",
       "    </tr>\n",
       "  </thead>\n",
       "  <tbody>\n",
       "    <tr>\n",
       "      <th>0</th>\n",
       "      <td>9.744375e+09</td>\n",
       "      <td>0.356487</td>\n",
       "      <td>5.266641e+11</td>\n",
       "      <td>0.279271</td>\n",
       "      <td>0.3</td>\n",
       "    </tr>\n",
       "    <tr>\n",
       "      <th>1</th>\n",
       "      <td>6.488627e+09</td>\n",
       "      <td>0.302243</td>\n",
       "      <td>1.232113e+11</td>\n",
       "      <td>0.137124</td>\n",
       "      <td>0.3</td>\n",
       "    </tr>\n",
       "    <tr>\n",
       "      <th>2</th>\n",
       "      <td>1.963719e+09</td>\n",
       "      <td>0.330547</td>\n",
       "      <td>4.588572e+11</td>\n",
       "      <td>0.315956</td>\n",
       "      <td>0.3</td>\n",
       "    </tr>\n",
       "    <tr>\n",
       "      <th>3</th>\n",
       "      <td>9.960097e+09</td>\n",
       "      <td>0.382041</td>\n",
       "      <td>1.455963e+11</td>\n",
       "      <td>0.123606</td>\n",
       "      <td>0.3</td>\n",
       "    </tr>\n",
       "    <tr>\n",
       "      <th>4</th>\n",
       "      <td>6.437510e+09</td>\n",
       "      <td>0.348520</td>\n",
       "      <td>8.645652e+11</td>\n",
       "      <td>0.129599</td>\n",
       "      <td>0.3</td>\n",
       "    </tr>\n",
       "  </tbody>\n",
       "</table>\n",
       "</div>"
      ],
      "text/plain": [
       "              1         2             3         4    6\n",
       "0  9.744375e+09  0.356487  5.266641e+11  0.279271  0.3\n",
       "1  6.488627e+09  0.302243  1.232113e+11  0.137124  0.3\n",
       "2  1.963719e+09  0.330547  4.588572e+11  0.315956  0.3\n",
       "3  9.960097e+09  0.382041  1.455963e+11  0.123606  0.3\n",
       "4  6.437510e+09  0.348520  8.645652e+11  0.129599  0.3"
      ]
     },
     "execution_count": 10,
     "metadata": {},
     "output_type": "execute_result"
    }
   ],
   "source": [
    "data.head()"
   ]
  },
  {
   "cell_type": "code",
   "execution_count": 11,
   "metadata": {},
   "outputs": [],
   "source": [
    "to_predict = pd.DataFrame([[68.3e+09,0.3,379.3e+09,0.1,0.47]])\n",
    "to_predict.columns = [1,2,3,4,6]"
   ]
  },
  {
   "cell_type": "code",
   "execution_count": 12,
   "metadata": {},
   "outputs": [
    {
     "name": "stdout",
     "output_type": "stream",
     "text": [
      "1   [  3.23474289e+10]\n",
      "2   [  1.00508795e+10]\n",
      "3   [  4.72337984e+08]\n",
      "5   [  3.36007844e+10]\n",
      "6   [  8.34120960e+08]\n",
      "9   [  1.08749281e+10]\n"
     ]
    }
   ],
   "source": [
    "import xgboost as xgb\n",
    "params = {\"objective\": \"reg:linear\",\n",
    "          \"booster\" : \"gbtree\",\n",
    "          \"eta\": 0.3,\n",
    "          \"max_depth\": 2,\n",
    "          \"subsample\": 0.8,\n",
    "          'gamma':1.0,\n",
    "          \"silent\": 1,\n",
    "          \"seed\": 1301\n",
    "          }\n",
    "num_boost_round = 1000\n",
    "\n",
    "res = []\n",
    "for i in [1,2,3,5,6,9]:\n",
    "    dtrain = xgb.DMatrix(data, result[i])\n",
    "    gbm = xgb.train(params, dtrain, num_boost_round)\n",
    "    pred = gbm.predict(xgb.DMatrix(to_predict))\n",
    "    print i,\" \",pred\n",
    "    res.append(pred[0])"
   ]
  },
  {
   "cell_type": "code",
   "execution_count": 13,
   "metadata": {},
   "outputs": [
    {
     "data": {
      "text/plain": [
       "[3.2347429e+10,\n",
       " 1.0050879e+10,\n",
       " 4.7233798e+08,\n",
       " 3.3600784e+10,\n",
       " 8.3412096e+08,\n",
       " 1.0874928e+10]"
      ]
     },
     "execution_count": 13,
     "metadata": {},
     "output_type": "execute_result"
    }
   ],
   "source": [
    "res"
   ]
  },
  {
   "cell_type": "code",
   "execution_count": 14,
   "metadata": {},
   "outputs": [
    {
     "data": {
      "text/plain": [
       "0.67238284524696124"
      ]
     },
     "execution_count": 14,
     "metadata": {},
     "output_type": "execute_result"
    }
   ],
   "source": [
    "phi = 2*res[5]/res[0]\n",
    "phi"
   ]
  },
  {
   "cell_type": "code",
   "execution_count": 15,
   "metadata": {},
   "outputs": [
    {
     "data": {
      "text/plain": [
       "0.24677080555951506"
      ]
     },
     "execution_count": 15,
     "metadata": {},
     "output_type": "execute_result"
    }
   ],
   "source": [
    "nu_c = (phi-1)/(phi-2)\n",
    "nu_c"
   ]
  },
  {
   "cell_type": "code",
   "execution_count": 16,
   "metadata": {},
   "outputs": [
    {
     "data": {
      "text/plain": [
       "27.117085805096778"
      ]
     },
     "execution_count": 16,
     "metadata": {},
     "output_type": "execute_result"
    }
   ],
   "source": [
    "E = 2*res[5]*(1+nu_c)\n",
    "E/(1e+9)"
   ]
  },
  {
   "cell_type": "code",
   "execution_count": 17,
   "metadata": {},
   "outputs": [
    {
     "data": {
      "text/plain": [
       "RandomForestRegressor(bootstrap=True, criterion='mse', max_depth=None,\n",
       "           max_features='auto', max_leaf_nodes=None,\n",
       "           min_impurity_split=1e-07, min_samples_leaf=1,\n",
       "           min_samples_split=2, min_weight_fraction_leaf=0.0,\n",
       "           n_estimators=200, n_jobs=1, oob_score=False, random_state=None,\n",
       "           verbose=0, warm_start=False)"
      ]
     },
     "execution_count": 17,
     "metadata": {},
     "output_type": "execute_result"
    }
   ],
   "source": [
    "rf = RandomForestRegressor(n_estimators = 200)\n",
    "rf.fit(data, result[1])"
   ]
  },
  {
   "cell_type": "code",
   "execution_count": 18,
   "metadata": {},
   "outputs": [
    {
     "name": "stdout",
     "output_type": "stream",
     "text": [
      "1   [  3.54113595e+10]\n",
      "2   [  1.14778940e+10]\n",
      "3   [  4.41498610e+08]\n",
      "5   [  3.57556855e+10]\n",
      "6   [  7.84961440e+08]\n",
      "9   [  1.07222615e+10]\n"
     ]
    }
   ],
   "source": [
    "for i in [1,2,3,5,6,9]:\n",
    "    rf.fit(data, result[i])\n",
    "    print i,\" \",rf.predict(np.array([68.3e+09,0.3,379.3e+09,0.1,0.47]).reshape(1, -1))"
   ]
  },
  {
   "cell_type": "code",
   "execution_count": 19,
   "metadata": {},
   "outputs": [
    {
     "data": {
      "text/plain": [
       "13.966401"
      ]
     },
     "execution_count": 19,
     "metadata": {},
     "output_type": "execute_result"
    }
   ],
   "source": [
    "(3.54919840e+10-2*1.07627915e+10)/1e+9"
   ]
  },
  {
   "cell_type": "code",
   "execution_count": 20,
   "metadata": {},
   "outputs": [
    {
     "data": {
      "text/html": [
       "<div>\n",
       "<table border=\"1\" class=\"dataframe\">\n",
       "  <thead>\n",
       "    <tr style=\"text-align: right;\">\n",
       "      <th></th>\n",
       "      <th>1</th>\n",
       "      <th>2</th>\n",
       "      <th>3</th>\n",
       "      <th>4</th>\n",
       "      <th>6</th>\n",
       "    </tr>\n",
       "  </thead>\n",
       "  <tbody>\n",
       "    <tr>\n",
       "      <th>count</th>\n",
       "      <td>3.000000e+02</td>\n",
       "      <td>300.000000</td>\n",
       "      <td>3.000000e+02</td>\n",
       "      <td>300.000000</td>\n",
       "      <td>300.000000</td>\n",
       "    </tr>\n",
       "    <tr>\n",
       "      <th>mean</th>\n",
       "      <td>5.574183e+09</td>\n",
       "      <td>0.305267</td>\n",
       "      <td>4.987511e+11</td>\n",
       "      <td>0.222166</td>\n",
       "      <td>0.400000</td>\n",
       "    </tr>\n",
       "    <tr>\n",
       "      <th>std</th>\n",
       "      <td>2.836223e+09</td>\n",
       "      <td>0.059083</td>\n",
       "      <td>2.654900e+11</td>\n",
       "      <td>0.073148</td>\n",
       "      <td>0.081786</td>\n",
       "    </tr>\n",
       "    <tr>\n",
       "      <th>min</th>\n",
       "      <td>1.078529e+09</td>\n",
       "      <td>0.201779</td>\n",
       "      <td>4.610544e+10</td>\n",
       "      <td>0.102230</td>\n",
       "      <td>0.300000</td>\n",
       "    </tr>\n",
       "    <tr>\n",
       "      <th>25%</th>\n",
       "      <td>2.931881e+09</td>\n",
       "      <td>0.251675</td>\n",
       "      <td>2.931493e+11</td>\n",
       "      <td>0.158937</td>\n",
       "      <td>0.300000</td>\n",
       "    </tr>\n",
       "    <tr>\n",
       "      <th>50%</th>\n",
       "      <td>5.475158e+09</td>\n",
       "      <td>0.312091</td>\n",
       "      <td>4.872371e+11</td>\n",
       "      <td>0.216204</td>\n",
       "      <td>0.400000</td>\n",
       "    </tr>\n",
       "    <tr>\n",
       "      <th>75%</th>\n",
       "      <td>8.189232e+09</td>\n",
       "      <td>0.355053</td>\n",
       "      <td>6.915839e+11</td>\n",
       "      <td>0.285937</td>\n",
       "      <td>0.500000</td>\n",
       "    </tr>\n",
       "    <tr>\n",
       "      <th>max</th>\n",
       "      <td>9.960097e+09</td>\n",
       "      <td>0.398134</td>\n",
       "      <td>9.739165e+11</td>\n",
       "      <td>0.349943</td>\n",
       "      <td>0.500000</td>\n",
       "    </tr>\n",
       "  </tbody>\n",
       "</table>\n",
       "</div>"
      ],
      "text/plain": [
       "                  1           2             3           4           6\n",
       "count  3.000000e+02  300.000000  3.000000e+02  300.000000  300.000000\n",
       "mean   5.574183e+09    0.305267  4.987511e+11    0.222166    0.400000\n",
       "std    2.836223e+09    0.059083  2.654900e+11    0.073148    0.081786\n",
       "min    1.078529e+09    0.201779  4.610544e+10    0.102230    0.300000\n",
       "25%    2.931881e+09    0.251675  2.931493e+11    0.158937    0.300000\n",
       "50%    5.475158e+09    0.312091  4.872371e+11    0.216204    0.400000\n",
       "75%    8.189232e+09    0.355053  6.915839e+11    0.285937    0.500000\n",
       "max    9.960097e+09    0.398134  9.739165e+11    0.349943    0.500000"
      ]
     },
     "execution_count": 20,
     "metadata": {},
     "output_type": "execute_result"
    }
   ],
   "source": [
    "data.describe()"
   ]
  },
  {
   "cell_type": "code",
   "execution_count": 21,
   "metadata": {},
   "outputs": [
    {
     "data": {
      "text/plain": [
       "(68300000000.0, 0.3, 379300000000.0, 0.1, 0.47)"
      ]
     },
     "execution_count": 21,
     "metadata": {},
     "output_type": "execute_result"
    }
   ],
   "source": [
    "68.3e+09,0.3,379.3e+09,0.1,0.47"
   ]
  },
  {
   "cell_type": "code",
   "execution_count": null,
   "metadata": {
    "collapsed": true
   },
   "outputs": [],
   "source": []
  }
 ],
 "metadata": {
  "kernelspec": {
   "display_name": "Python 2",
   "language": "python",
   "name": "python2"
  },
  "language_info": {
   "codemirror_mode": {
    "name": "ipython",
    "version": 2
   },
   "file_extension": ".py",
   "mimetype": "text/x-python",
   "name": "python",
   "nbconvert_exporter": "python",
   "pygments_lexer": "ipython2",
   "version": "2.7.12"
  }
 },
 "nbformat": 4,
 "nbformat_minor": 1
}
