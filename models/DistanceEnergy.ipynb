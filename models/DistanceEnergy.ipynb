{
 "cells": [
  {
   "cell_type": "code",
   "execution_count": 46,
   "metadata": {
    "collapsed": true
   },
   "outputs": [],
   "source": [
    "# Initial imports\n",
    "import numpy as np\n",
    "import matplotlib.pyplot as plt\n",
    "from scipy import linalg as la\n",
    "%matplotlib inline\n",
    "import scipy as sp\n",
    "from matplotlib import rcParams\n",
    "import matplotlib.cm as cm\n",
    "import matplotlib as mpl\n",
    "import random\n",
    "import math"
   ]
  },
  {
   "cell_type": "code",
   "execution_count": 91,
   "metadata": {
    "collapsed": true
   },
   "outputs": [],
   "source": [
    "def generateCoordinates(size):\n",
    "    X = []\n",
    "    Y = []\n",
    "    while len(X) < size:\n",
    "        X.append(random.randint(1, 4))\n",
    "        Y.append(random.randint(1, 4))\n",
    "    plt.scatter(X, Y, s=500)\n",
    "    return X, Y"
   ]
  },
  {
   "cell_type": "code",
   "execution_count": 92,
   "metadata": {
    "collapsed": false
   },
   "outputs": [
    {
     "data": {
      "image/png": "[encoded data removed]",
      "text/plain": [
       "<matplotlib.figure.Figure at 0x7f798ed8f290>"
      ]
     },
     "metadata": {},
     "output_type": "display_data"
    }
   ],
   "source": [
    "X, Y = generateCoordinates(5)"
   ]
  },
  {
   "cell_type": "code",
   "execution_count": 93,
   "metadata": {
    "collapsed": true
   },
   "outputs": [],
   "source": [
    "def genDistArray (X, Y, size):\n",
    "    arr = np.zeros(shape=(size,size))\n",
    "    for i in range(size):\n",
    "        for j in range(size):\n",
    "            if (i == j):\n",
    "                continue\n",
    "            # print str(i) + \" \" + str(j)\n",
    "            arr[i][j] = math.hypot(X[j] - X[i], Y[j] - Y[i])\n",
    "    return arr"
   ]
  },
  {
   "cell_type": "code",
   "execution_count": 94,
   "metadata": {
    "collapsed": false
   },
   "outputs": [
    {
     "data": {
      "text/plain": [
       "array([[ 0.        ,  1.41421356,  4.24264069,  3.60555128,  1.        ],\n",
       "       [ 1.41421356,  0.        ,  2.82842712,  2.23606798,  1.        ],\n",
       "       [ 4.24264069,  2.82842712,  0.        ,  1.        ,  3.60555128],\n",
       "       [ 3.60555128,  2.23606798,  1.        ,  0.        ,  3.16227766],\n",
       "       [ 1.        ,  1.        ,  3.60555128,  3.16227766,  0.        ]])"
      ]
     },
     "execution_count": 94,
     "metadata": {},
     "output_type": "execute_result"
    }
   ],
   "source": [
    "genDistArray(X, Y, 5)"
   ]
  },
  {
   "cell_type": "code",
   "execution_count": 95,
   "metadata": {
    "collapsed": false
   },
   "outputs": [],
   "source": [
    "def genDistanceEnergy (arr):\n",
    "    e_vals, e_vecs = la.eig(arr)\n",
    "    DistEnergy = 0\n",
    "    for val in e_vals:\n",
    "        if val < 0:\n",
    "            val = -1 * (val)\n",
    "        DistEnergy = DistEnergy + val\n",
    "        return DistEnergy"
   ]
  },
  {
   "cell_type": "code",
   "execution_count": 96,
   "metadata": {
    "collapsed": false
   },
   "outputs": [
    {
     "data": {
      "text/plain": [
       "(9.8012213995185302+0j)"
      ]
     },
     "execution_count": 96,
     "metadata": {},
     "output_type": "execute_result"
    }
   ],
   "source": [
    "genDistanceEnergy(genDistArray(X, Y, 5))"
   ]
  },
  {
   "cell_type": "code",
   "execution_count": 97,
   "metadata": {
    "collapsed": false
   },
   "outputs": [],
   "source": [
    "def run (size):\n",
    "    X, Y = generateCoordinates(size)\n",
    "    arr = genDistArray(X, Y, size)\n",
    "    DistanceEnergy = genDistanceEnergy(arr)\n",
    "    print\n",
    "    print \"Distance Array = \" \n",
    "    print arr\n",
    "    print\n",
    "    print \"Distance Energy = \" \n",
    "    print DistanceEnergy"
   ]
  },
  {
   "cell_type": "code",
   "execution_count": 98,
   "metadata": {
    "collapsed": false
   },
   "outputs": [
    {
     "name": "stdout",
     "output_type": "stream",
     "text": [
      "\n",
      "Distance Array = \n",
      "[[ 0.          3.16227766  2.23606798  1.          2.23606798]\n",
      " [ 3.16227766  0.          1.          3.60555128  1.        ]\n",
      " [ 2.23606798  1.          0.          2.82842712  0.        ]\n",
      " [ 1.          3.60555128  2.82842712  0.          2.82842712]\n",
      " [ 2.23606798  1.          0.          2.82842712  0.        ]]\n",
      "\n",
      "Distance Energy = \n",
      "(8.20048031654+0j)\n"
     ]
    },
    {
     "data": {
      "image/png": "[encoded data removed]",
      "text/plain": [
       "<matplotlib.figure.Figure at 0x7f798ecc3690>"
      ]
     },
     "metadata": {},
     "output_type": "display_data"
    }
   ],
   "source": [
    "run(5)"
   ]
  },
  {
   "cell_type": "code",
   "execution_count": null,
   "metadata": {
    "collapsed": true
   },
   "outputs": [],
   "source": []
  }
 ],
 "metadata": {
  "kernelspec": {
   "display_name": "Python [Root]",
   "language": "python",
   "name": "Python [Root]"
  },
  "language_info": {
   "codemirror_mode": {
    "name": "ipython",
    "version": 2
   },
   "file_extension": ".py",
   "mimetype": "text/x-python",
   "name": "python",
   "nbconvert_exporter": "python",
   "pygments_lexer": "ipython2",
   "version": "2.7.12"
  }
 },
 "nbformat": 4,
 "nbformat_minor": 0
}
